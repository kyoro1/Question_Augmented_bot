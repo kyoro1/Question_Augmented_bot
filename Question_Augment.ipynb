{
 "cells": [
  {
   "cell_type": "code",
   "execution_count": null,
   "metadata": {},
   "outputs": [],
   "source": [
    "from src import common\n",
    "import pandas as pd"
   ]
  },
  {
   "cell_type": "markdown",
   "metadata": {},
   "source": [
    "## Load original FAQ"
   ]
  },
  {
   "cell_type": "code",
   "execution_count": null,
   "metadata": {},
   "outputs": [],
   "source": [
    "## Original FAQ\n",
    "df = pd.read_csv('Original_FAQ_M365.csv')"
   ]
  },
  {
   "cell_type": "code",
   "execution_count": null,
   "metadata": {},
   "outputs": [],
   "source": [
    "df.head()"
   ]
  },
  {
   "cell_type": "code",
   "execution_count": null,
   "metadata": {},
   "outputs": [],
   "source": [
    "## COnfiguration\n",
    "tools = common.AOAI_TOOLS(config_file='./config.yml')"
   ]
  },
  {
   "cell_type": "code",
   "execution_count": null,
   "metadata": {},
   "outputs": [],
   "source": [
    "## Load prompts to be used\n",
    "tools.load_prompts(prompt_name='QA_prompt_template', \n",
    "                    prompt_path='./prompts/operational_prompts.yml')\n",
    "\n",
    "## Configuration for AOAI model\n",
    "tools.setClient()"
   ]
  },
  {
   "cell_type": "markdown",
   "metadata": {},
   "source": [
    "## Augment Questions"
   ]
  },
  {
   "cell_type": "code",
   "execution_count": null,
   "metadata": {},
   "outputs": [],
   "source": [
    "## load prompts\n",
    "prompt_template = tools.promptBank['QA_prompt_template']['PROMPTS']['Augment_Q_from_QA_template']\n",
    "prompt_template"
   ]
  },
  {
   "cell_type": "code",
   "execution_count": null,
   "metadata": {},
   "outputs": [],
   "source": [
    "## Augument Questions with original questions and the combination of questions and answers\n",
    "df_all = tools.generate_df_for_augmented_Questions(df=df,\n",
    "                                                    prompt_template=prompt_template,\n",
    "                                                    need_answer=True,)"
   ]
  },
  {
   "cell_type": "code",
   "execution_count": null,
   "metadata": {},
   "outputs": [],
   "source": [
    "## Vectorize the augmented questions\n",
    "#df_all['search_vector'] = df_all['augmented_query'].apply(lambda x: tools.getEmbeddedVector(text=x))"
   ]
  },
  {
   "cell_type": "code",
   "execution_count": null,
   "metadata": {},
   "outputs": [],
   "source": [
    "## Save the datasets\n",
    "#df_all.to_pickle('df_all.pkl')"
   ]
  },
  {
   "cell_type": "code",
   "execution_count": null,
   "metadata": {},
   "outputs": [],
   "source": [
    "df_all = pd.read_pickle('df_all.pkl')\n",
    "df_all.head()"
   ]
  },
  {
   "cell_type": "markdown",
   "metadata": {},
   "source": [
    "## Quick validation"
   ]
  },
  {
   "cell_type": "code",
   "execution_count": null,
   "metadata": {},
   "outputs": [],
   "source": [
    "## load prompts\n",
    "prompt_template = tools.promptBank['QA_prompt_template']['PROMPTS']['Augment_Q_from_Q_template']\n",
    "prompt_template"
   ]
  },
  {
   "cell_type": "code",
   "execution_count": null,
   "metadata": {},
   "outputs": [],
   "source": [
    "## 元の質問、もしくは質問＋回答を入力として、質問を増幅する\n",
    "#df_queries = tools.generate_df_for_augmented_Questions(df=df,\n",
    "#                                                    prompt_template=prompt_template,\n",
    "#                                                    need_answer=False,)"
   ]
  },
  {
   "cell_type": "code",
   "execution_count": null,
   "metadata": {},
   "outputs": [],
   "source": [
    "## Vectorize the augmented questions\n",
    "#df_queries['search_vector'] = df_queries['augmented_query'].apply(lambda x: tools.getEmbeddedVector(text=x))"
   ]
  },
  {
   "cell_type": "code",
   "execution_count": null,
   "metadata": {},
   "outputs": [],
   "source": [
    "#df_queries.to_pickle('df_queries.pkl')\n",
    "df_queries = pd.read_pickle('df_queries.pkl')"
   ]
  },
  {
   "cell_type": "code",
   "execution_count": null,
   "metadata": {},
   "outputs": [],
   "source": [
    "df_queries.head()"
   ]
  },
  {
   "cell_type": "markdown",
   "metadata": {},
   "source": [
    "## Quick evaluation"
   ]
  },
  {
   "cell_type": "code",
   "execution_count": null,
   "metadata": {},
   "outputs": [],
   "source": [
    "## Validation\n",
    "df_evaluation = tools.generate_df_evaluation(df_all=df_all, df_queries=df_queries)"
   ]
  },
  {
   "cell_type": "code",
   "execution_count": null,
   "metadata": {},
   "outputs": [],
   "source": [
    "df_evaluation['correctness'].sum() / len(df_evaluation)"
   ]
  },
  {
   "cell_type": "code",
   "execution_count": null,
   "metadata": {},
   "outputs": [],
   "source": [
    "df_evaluation.head()"
   ]
  },
  {
   "cell_type": "markdown",
   "metadata": {},
   "source": [
    "## manual conversation"
   ]
  },
  {
   "cell_type": "code",
   "execution_count": null,
   "metadata": {},
   "outputs": [],
   "source": [
    "## load prompts\n",
    "prompt_template = tools.promptBank['QA_prompt_template']['PROMPTS']\n",
    "prompt_template"
   ]
  },
  {
   "cell_type": "code",
   "execution_count": null,
   "metadata": {},
   "outputs": [],
   "source": [
    "INPUT = 'こんにちは'"
   ]
  },
  {
   "cell_type": "code",
   "execution_count": null,
   "metadata": {},
   "outputs": [],
   "source": [
    "query_result = tools.judge_if_KB(INPUT=INPUT,\n",
    "                            df_all=df_all)\n",
    "prompt = tools.set_prompt(prompt_template=prompt_template,\n",
    "                          query_result=query_result,\n",
    "                          threshold=0.6)"
   ]
  },
  {
   "cell_type": "code",
   "execution_count": null,
   "metadata": {},
   "outputs": [],
   "source": [
    "conversation_history = []\n",
    "conversation_history, returned_message = tools.manualConversation(INPUT=INPUT,\n",
    "                                            prompt=prompt,\n",
    "                                            conversation_history=conversation_history,)"
   ]
  },
  {
   "cell_type": "code",
   "execution_count": null,
   "metadata": {},
   "outputs": [],
   "source": [
    "INPUT = 'Microsoft 365 サブスクリプションを10人で共有できると聞いたのですが？'\n",
    "conversation_history = tools.manualConversation(INPUT=INPUT,\n",
    "                         prompt=prompt,\n",
    "                         conversation_history=conversation_history,)"
   ]
  },
  {
   "cell_type": "code",
   "execution_count": null,
   "metadata": {},
   "outputs": [],
   "source": [
    "conversation_history"
   ]
  }
 ],
 "metadata": {
  "kernelspec": {
   "display_name": "Python 3",
   "language": "python",
   "name": "python3"
  },
  "language_info": {
   "codemirror_mode": {
    "name": "ipython",
    "version": 3
   },
   "file_extension": ".py",
   "mimetype": "text/x-python",
   "name": "python",
   "nbconvert_exporter": "python",
   "pygments_lexer": "ipython3",
   "version": "3.9.6"
  }
 },
 "nbformat": 4,
 "nbformat_minor": 2
}
